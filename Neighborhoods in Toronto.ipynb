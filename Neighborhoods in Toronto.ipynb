{
    "cells": [
        {
            "cell_type": "markdown",
            "metadata": {
                "collapsed": true
            },
            "source": "# Neighborhoods in Toronto\n\n- Segmenting and clustering neighborhoods in the city of Toronto, Canada\n- Coursera_Capstone week 3 project"
        },
        {
            "cell_type": "markdown",
            "metadata": {},
            "source": "### Import library"
        },
        {
            "cell_type": "code",
            "execution_count": 2,
            "metadata": {},
            "outputs": [],
            "source": "import pandas as pd\nimport numpy as np"
        },
        {
            "cell_type": "markdown",
            "metadata": {},
            "source": "### Dataframe for postal codes"
        },
        {
            "cell_type": "code",
            "execution_count": 3,
            "metadata": {},
            "outputs": [],
            "source": "pcode=pd.read_html('https://en.wikipedia.org/wiki/List_of_postal_codes_of_Canada:_M')"
        },
        {
            "cell_type": "code",
            "execution_count": 4,
            "metadata": {},
            "outputs": [],
            "source": "pcode_df=pcode[0]"
        },
        {
            "cell_type": "code",
            "execution_count": 5,
            "metadata": {},
            "outputs": [],
            "source": "pcode_df.rename(columns={'Neighbourhood':'Neighborhood'},inplace=True)"
        },
        {
            "cell_type": "markdown",
            "metadata": {},
            "source": "### Ignore \"Not assigned\" in borough"
        },
        {
            "cell_type": "code",
            "execution_count": 6,
            "metadata": {},
            "outputs": [],
            "source": "clean_pcode_df=pcode_df[pcode_df['Borough']!='Not assigned']"
        },
        {
            "cell_type": "markdown",
            "metadata": {},
            "source": "### Combine neighborhoods with the same postal code"
        },
        {
            "cell_type": "code",
            "execution_count": 7,
            "metadata": {},
            "outputs": [],
            "source": "comb_pcode_df=clean_pcode_df.groupby('Postal Code',as_index=False).agg({'Borough':'first','Neighborhood':lambda x: ','.join(x)})"
        },
        {
            "cell_type": "markdown",
            "metadata": {},
            "source": "### Copy 'borough' to 'Neighborhood'  if 'Neighborhood' is 'Not assigned'"
        },
        {
            "cell_type": "code",
            "execution_count": 8,
            "metadata": {},
            "outputs": [
                {
                    "name": "stdout",
                    "output_type": "stream",
                    "text": "All neighborhood are assigned\n"
                }
            ],
            "source": "try:\n    comb_pcode_df[comb_pcode_df['Neighborhood']=='Not assigned','Neighborhood']=comb_pcode_df[comb_pcode_df['Neighborhood']=='Not assigned','Borough']\nexcept TypeError:\n    print(\"All neighborhood are assigned\")"
        },
        {
            "cell_type": "code",
            "execution_count": 9,
            "metadata": {},
            "outputs": [
                {
                    "name": "stdout",
                    "output_type": "stream",
                    "text": "(103, 3)\n"
                }
            ],
            "source": "print(comb_pcode_df.shape)"
        }
    ],
    "metadata": {
        "kernelspec": {
            "display_name": "Python 3.6",
            "language": "python",
            "name": "python3"
        },
        "language_info": {
            "codemirror_mode": {
                "name": "ipython",
                "version": 3
            },
            "file_extension": ".py",
            "mimetype": "text/x-python",
            "name": "python",
            "nbconvert_exporter": "python",
            "pygments_lexer": "ipython3",
            "version": "3.6.9"
        }
    },
    "nbformat": 4,
    "nbformat_minor": 1
}