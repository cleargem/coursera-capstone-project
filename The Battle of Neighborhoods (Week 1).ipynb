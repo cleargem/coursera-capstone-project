{
    "cells": [
        {
            "cell_type": "markdown",
            "metadata": {
                "collapsed": true
            },
            "source": "# Apartment prices and venues data analysis in Seoul, South Korea"
        },
        {
            "cell_type": "markdown",
            "metadata": {},
            "source": "## 1. Introduction"
        },
        {
            "cell_type": "markdown",
            "metadata": {},
            "source": "Seoul is the capital and largest city of Korea as the center of the politics, economy, society and culture of Korea. It is a basin city with the Han River flowing in the center and surrounded by mountains. Seoul has an area of 605.2 km\u00b2 and a population of about 10 million, accounting for 0.6% of the total area of Korea and 18.7% of the total population.[1] Like other large cities, housing costs in Seoul are difficult to deal with and varies greatly depending on the districts. In this report, we want to find out the correlation between the average housing price and the surrounding venue in Seoul. "
        },
        {
            "cell_type": "markdown",
            "metadata": {},
            "source": "## 2. Data "
        },
        {
            "cell_type": "markdown",
            "metadata": {},
            "source": "Seoul is comprised of 25 administrative disticts, which is similar to Toronto's or New York's boroughs.[2] We will use the apartment price to represent the housing cost because the general type of residence in Seoul is apartments, accounting for 40-50%.[3] The price data include the average apartment price per 3.3m square area by district for July 2020.[4] We will also use Forsquere API for venues information of given districts in Seoul.[5]"
        },
        {
            "cell_type": "markdown",
            "metadata": {},
            "source": "## Reference\n"
        },
        {
            "cell_type": "markdown",
            "metadata": {},
            "source": "[1] https://ko.wikipedia.org/wiki/%EC%84%9C%EC%9A%B8%ED%8A%B9%EB%B3%84%EC%8B%9C  \n[2] https://en.wikipedia.org/wiki/List_of_postal_codes_in_South_Korea  \n[3] http://data.si.re.kr/sites/default/files/file/2%EC%9E%A5%20%EC%84%9C%EC%9A%B8%EC%9D%98%20%EC%A3%BC%ED%83%9D%ED%98%84%ED%99%A9.pdf  \n[4] http://buking.kr/rank.php?m=mg&st=md&gi=1&si=%EC%84%9C%EC%9A%B8 as is 2020/08/15  \n[5] https://developer.foursquare.com/"
        }
    ],
    "metadata": {
        "kernelspec": {
            "display_name": "Python 3.6",
            "language": "python",
            "name": "python3"
        },
        "language_info": {
            "codemirror_mode": {
                "name": "ipython",
                "version": 3
            },
            "file_extension": ".py",
            "mimetype": "text/x-python",
            "name": "python",
            "nbconvert_exporter": "python",
            "pygments_lexer": "ipython3",
            "version": "3.6.9"
        }
    },
    "nbformat": 4,
    "nbformat_minor": 1
}